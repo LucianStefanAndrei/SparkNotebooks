{
 "cells": [
  {
   "cell_type": "markdown",
   "id": "4f3c8535-47a9-4b10-a8ee-0f70c1d8feef",
   "metadata": {},
   "source": [
    "# We will build a NaiveBayes Classifier for detecting fake news\n",
    "## For this we will use a tf-idf strategy.\n",
    "## Some of the labels are not correct, because they were saved without stripping punctuation, some may include commas, which create different values than true or fake. Fortunately, they are not too many and we can drop them. Keep in mind that this notebook will run only with PySpark installed correctly on a machine and with the required dependencies installed. \n",
    "## The data has been imported from kaggle and preprocessed in the other notebook. You can find the repository here: https://www.kaggle.com/datasets/clmentbisaillon/fake-and-real-news-dataset"
   ]
  },
  {
   "cell_type": "code",
   "execution_count": 78,
   "id": "1d74aed8-0a4b-456a-8c1b-837716b303ab",
   "metadata": {},
   "outputs": [],
   "source": [
    "from pyspark.sql import SparkSession\n",
    "spark = SparkSession.builder.appName('tweet_classifier').getOrCreate()"
   ]
  },
  {
   "cell_type": "code",
   "execution_count": 79,
   "id": "ac9a2d4f-e652-41da-88de-30b96ab23103",
   "metadata": {},
   "outputs": [],
   "source": [
    "data = spark.read.csv(\"data/fake_true_curated.csv\",header=True)"
   ]
  },
  {
   "cell_type": "code",
   "execution_count": 80,
   "id": "2ada72eb-5a06-4c46-9fec-a1407fb0bdcd",
   "metadata": {},
   "outputs": [
    {
     "name": "stdout",
     "output_type": "stream",
     "text": [
      "+--------------------+-----+\n",
      "|               title|label|\n",
      "+--------------------+-----+\n",
      "|Ben Stein Calls O...| fake|\n",
      "|Trump drops Steve...| true|\n",
      "|Puerto Rico expec...| true|\n",
      "| OOPS: Trump Just...| fake|\n",
      "|Donald Trump head...| true|\n",
      "| Paul Ryan Respon...| fake|\n",
      "|AWESOME! DIAMOND ...| fake|\n",
      "|STAND UP AND CHEE...| fake|\n",
      "|North Korea shows...| true|\n",
      "|Trump signals wil...| true|\n",
      "|New Jersey's Chri...| true|\n",
      "|WHERE’S HILLARY? ...| fake|\n",
      "|France, Germany w...| true|\n",
      "|Aide to EU Commis...| true|\n",
      "|Trump Issues Warn...| fake|\n",
      "|U.S. gives Laos e...| true|\n",
      "|JUDGE DECLARES BA...| fake|\n",
      "| Paul Ryan Takes ...| fake|\n",
      "| Republicans Dine...| fake|\n",
      "|U.S. House panel ...| true|\n",
      "+--------------------+-----+\n",
      "only showing top 20 rows\n",
      "\n"
     ]
    }
   ],
   "source": [
    "data.show()"
   ]
  },
  {
   "cell_type": "code",
   "execution_count": 81,
   "id": "b895232b-53cb-4370-9b64-231546493b06",
   "metadata": {},
   "outputs": [],
   "source": [
    "#Keep only the correctly labeled values\n",
    "\n",
    "data = data.filter((data[\"label\"] == \"fake\") | (data[\"label\"] == \"true\"))"
   ]
  },
  {
   "cell_type": "code",
   "execution_count": 82,
   "id": "880061fb-bacb-4ae5-bb71-3568c9111821",
   "metadata": {},
   "outputs": [
    {
     "name": "stdout",
     "output_type": "stream",
     "text": [
      "+-----+-----+\n",
      "|label|count|\n",
      "+-----+-----+\n",
      "| fake|23477|\n",
      "| true|21411|\n",
      "+-----+-----+\n",
      "\n"
     ]
    }
   ],
   "source": [
    "data.groupby(\"label\").count().show()"
   ]
  },
  {
   "cell_type": "code",
   "execution_count": 83,
   "id": "a9956c65-905f-4d44-871a-6e67da8e4208",
   "metadata": {},
   "outputs": [],
   "source": [
    "from pyspark.sql.functions import length\n",
    "from pyspark.ml.feature import VectorAssembler\n",
    "from pyspark.ml.linalg import Vector\n",
    "from pyspark.ml.classification import NaiveBayes\n",
    "from pyspark.ml.feature import Tokenizer,StopWordsRemover, CountVectorizer,IDF,StringIndexer\n",
    "from pyspark.ml import Pipeline"
   ]
  },
  {
   "cell_type": "code",
   "execution_count": 84,
   "id": "1ce1bf30-9f50-48d2-9700-4aa0ec383acc",
   "metadata": {},
   "outputs": [
    {
     "data": {
      "text/plain": [
       "[Row(title='Ben Stein Calls Out 9th Circuit Court: Committed a ‘Coup d’état’ Against the Constitution', label='fake', length=89),\n",
       " Row(title='Trump drops Steve Bannon from National Security Council', label='true', length=55),\n",
       " Row(title='Puerto Rico expects U.S. to lift Jones Act shipping restrictions', label='true', length=64),\n",
       " Row(title=' OOPS: Trump Just Accidentally Confirmed He Leaked Israeli Intelligence To Russia (VIDEO)', label='fake', length=89),\n",
       " Row(title='Donald Trump heads for Scotland to reopen a golf resort', label='true', length=55)]"
      ]
     },
     "execution_count": 84,
     "metadata": {},
     "output_type": "execute_result"
    }
   ],
   "source": [
    "# get the length of every title and compute the mean\n",
    "data = data.withColumn(\"length\",length(data[\"title\"]))\n",
    "data.head(5)"
   ]
  },
  {
   "cell_type": "code",
   "execution_count": 85,
   "id": "7b86bd50-b449-4d68-ad61-06bc3b210f8c",
   "metadata": {},
   "outputs": [
    {
     "name": "stdout",
     "output_type": "stream",
     "text": [
      "+-----+-----------------+\n",
      "|label|      avg(length)|\n",
      "+-----+-----------------+\n",
      "| fake|94.19623461259957|\n",
      "| true|64.67885666246322|\n",
      "+-----+-----------------+\n",
      "\n"
     ]
    }
   ],
   "source": [
    "data.groupby('label').mean().show()"
   ]
  },
  {
   "cell_type": "markdown",
   "id": "9e36d9b8-3310-4ed5-bb7e-52dbe14c86a0",
   "metadata": {},
   "source": [
    "# Preprocess the data\n",
    "We will create an input pipeline that is supposed to:\n",
    "- take every title, \n",
    "- tokenizes it, \n",
    "- removes stopwords, \n",
    "- create a bag of words vector,\n",
    "- computes TermFrequency-InverseDocumentFrequency\n",
    "- creates a vector with only the tf-idf values and length values into a features vector"
   ]
  },
  {
   "cell_type": "code",
   "execution_count": 86,
   "id": "c4c89544-a167-41ca-8877-10688be742f3",
   "metadata": {},
   "outputs": [],
   "source": [
    "\n",
    "tokenizer = Tokenizer(inputCol=\"title\", outputCol=\"token_title\")\n",
    "\n",
    "stopremove = StopWordsRemover(inputCol='token_title',outputCol='stop_tokens')\n",
    "\n",
    "count_vec = CountVectorizer(inputCol='stop_tokens',outputCol='c_vec')\n",
    "\n",
    "idf = IDF(inputCol=\"c_vec\", outputCol=\"tf_idf\")\n",
    "\n",
    "true_fake_num = StringIndexer(inputCol='label',outputCol='class')"
   ]
  },
  {
   "cell_type": "code",
   "execution_count": 99,
   "id": "07ffa778-9fc5-473e-b4bc-eba0144b4258",
   "metadata": {},
   "outputs": [],
   "source": [
    "assembler = VectorAssembler(inputCols=['tf_idf','length'],outputCol='features')"
   ]
  },
  {
   "cell_type": "code",
   "execution_count": 100,
   "id": "e63ffbd4-89b9-413e-a97b-ebbafe2421c1",
   "metadata": {},
   "outputs": [],
   "source": [
    "nb = NaiveBayes(labelCol=\"class\")"
   ]
  },
  {
   "cell_type": "code",
   "execution_count": 101,
   "id": "0b61bd79-a23c-42eb-b0cb-16188912e7f5",
   "metadata": {},
   "outputs": [],
   "source": [
    "pipeline = Pipeline(stages=[true_fake_num,tokenizer,stopremove,count_vec,idf,assembler])"
   ]
  },
  {
   "cell_type": "code",
   "execution_count": 102,
   "id": "48a260b6-2150-4822-8070-9434552ca975",
   "metadata": {},
   "outputs": [
    {
     "name": "stderr",
     "output_type": "stream",
     "text": [
      "                                                                                \r"
     ]
    }
   ],
   "source": [
    "cleaner = pipeline.fit(data)"
   ]
  },
  {
   "cell_type": "code",
   "execution_count": 103,
   "id": "8ca076f8-d9d3-456f-af2d-a35f43010c30",
   "metadata": {},
   "outputs": [],
   "source": [
    "clean_data = cleaner.transform(data)"
   ]
  },
  {
   "cell_type": "code",
   "execution_count": 104,
   "id": "49658767-fca5-4b21-8a8f-60eda432775a",
   "metadata": {},
   "outputs": [],
   "source": [
    "clean_data = clean_data.select(['class','features'])"
   ]
  },
  {
   "cell_type": "code",
   "execution_count": 105,
   "id": "b4f1b802-b8ad-4a15-bf1b-03e6a0ac6299",
   "metadata": {},
   "outputs": [
    {
     "name": "stdout",
     "output_type": "stream",
     "text": [
      "+-----+--------------------+\n",
      "|class|            features|\n",
      "+-----+--------------------+\n",
      "|  0.0|(42584,[23,597,97...|\n",
      "|  1.0|(42584,[0,71,133,...|\n",
      "|  1.0|(42584,[3,257,342...|\n",
      "|  0.0|(42584,[0,1,5,18,...|\n",
      "|  1.0|(42584,[0,22,954,...|\n",
      "|  0.0|(42584,[1,5,118,1...|\n",
      "|  0.0|(42584,[2,169,442...|\n",
      "|  0.0|(42584,[2,53,62,7...|\n",
      "|  1.0|(42584,[3,17,29,9...|\n",
      "|  1.0|(42584,[0,3,893,1...|\n",
      "|  1.0|(42584,[8,16,174,...|\n",
      "|  0.0|(42584,[12,3369,5...|\n",
      "|  1.0|(42584,[46,124,37...|\n",
      "|  1.0|(42584,[10,39,62,...|\n",
      "|  0.0|(42584,[0,2,89,35...|\n",
      "|  1.0|(42584,[3,88,140,...|\n",
      "|  0.0|(42584,[80,665,10...|\n",
      "|  0.0|(42584,[1,171,177...|\n",
      "|  0.0|(42584,[1,5,33,98...|\n",
      "|  1.0|(42584,[3,7,190,4...|\n",
      "+-----+--------------------+\n",
      "only showing top 20 rows\n",
      "\n"
     ]
    },
    {
     "name": "stderr",
     "output_type": "stream",
     "text": [
      "24/05/07 23:54:32 WARN DAGScheduler: Broadcasting large task binary with size 1207.5 KiB\n"
     ]
    }
   ],
   "source": [
    "clean_data.show()"
   ]
  },
  {
   "cell_type": "code",
   "execution_count": 106,
   "id": "3d2f01b7-6bff-4ea5-b553-050f9e37c0fc",
   "metadata": {},
   "outputs": [
    {
     "name": "stderr",
     "output_type": "stream",
     "text": [
      "24/05/07 23:54:33 WARN DAGScheduler: Broadcasting large task binary with size 3.5 MiB\n",
      "24/05/07 23:54:35 WARN DAGScheduler: Broadcasting large task binary with size 3.5 MiB\n",
      "                                                                                \r"
     ]
    }
   ],
   "source": [
    "(training,testing) = clean_data.randomSplit([0.7,0.3])\n",
    "fake_predictor = nb.fit(training)"
   ]
  },
  {
   "cell_type": "code",
   "execution_count": 107,
   "id": "1fb7076f-c438-4051-a3c5-52b5012d417c",
   "metadata": {},
   "outputs": [],
   "source": [
    "test_results = fake_predictor.transform(testing)"
   ]
  },
  {
   "cell_type": "code",
   "execution_count": 108,
   "id": "41318fed-23f2-475c-8440-93b30e12391a",
   "metadata": {},
   "outputs": [
    {
     "name": "stderr",
     "output_type": "stream",
     "text": [
      "24/05/07 23:54:35 WARN DAGScheduler: Broadcasting large task binary with size 4.1 MiB\n",
      "[Stage 118:>                                                        (0 + 1) / 1]\r"
     ]
    },
    {
     "name": "stdout",
     "output_type": "stream",
     "text": [
      "+-----+--------------------+--------------------+--------------------+----------+\n",
      "|class|            features|       rawPrediction|         probability|prediction|\n",
      "+-----+--------------------+--------------------+--------------------+----------+\n",
      "|  0.0|(42584,[0,1,3,5,5...|[-677.26912394716...|[1.0,2.6866504884...|       0.0|\n",
      "|  0.0|(42584,[0,1,3,234...|[-572.50698495562...|[0.05714634598650...|       1.0|\n",
      "|  0.0|(42584,[0,1,3,200...|[-666.30832030604...|[1.64458583267815...|       1.0|\n",
      "|  0.0|(42584,[0,1,4,5,6...|[-572.81706032244...|[1.0,1.5070499112...|       0.0|\n",
      "|  0.0|(42584,[0,1,4,5,1...|[-670.18614278553...|[1.0,1.4497711665...|       0.0|\n",
      "|  0.0|(42584,[0,1,4,5,3...|[-651.51560832364...|[1.0,5.6352274027...|       0.0|\n",
      "|  0.0|(42584,[0,1,4,5,1...|[-875.34878753948...|[1.42131778547011...|       1.0|\n",
      "|  0.0|(42584,[0,1,4,5,4...|[-423.73744738305...|[0.99998284724447...|       0.0|\n",
      "|  0.0|(42584,[0,1,4,5,5...|[-608.09492588725...|[1.0,5.0776477565...|       0.0|\n",
      "|  0.0|(42584,[0,1,4,6,1...|[-736.21787136858...|[1.0,1.2748022611...|       0.0|\n",
      "|  0.0|(42584,[0,1,4,6,3...|[-618.54582406014...|[1.0,1.2268311086...|       0.0|\n",
      "|  0.0|(42584,[0,1,4,7,1...|[-668.41201184637...|[1.0,5.5533644826...|       0.0|\n",
      "|  0.0|(42584,[0,1,4,9,1...|[-280.61618194440...|[1.0,1.1430784419...|       0.0|\n",
      "|  0.0|(42584,[0,1,4,9,8...|[-919.76618687322...|[1.0,4.9598565775...|       0.0|\n",
      "|  0.0|(42584,[0,1,4,10,...|[-434.01827429701...|[9.09330929393138...|       1.0|\n",
      "|  0.0|(42584,[0,1,4,12,...|[-689.53132183823...|[1.0,6.7315108930...|       0.0|\n",
      "|  0.0|(42584,[0,1,4,13,...|[-546.41764213367...|[1.0,1.4932336448...|       0.0|\n",
      "|  0.0|(42584,[0,1,4,14,...|[-580.94980501139...|[0.99999999999966...|       0.0|\n",
      "|  0.0|(42584,[0,1,4,14,...|[-545.78753857414...|[1.0,2.4212760050...|       0.0|\n",
      "|  0.0|(42584,[0,1,4,14,...|[-493.10714941276...|[1.0,3.1745252153...|       0.0|\n",
      "+-----+--------------------+--------------------+--------------------+----------+\n",
      "only showing top 20 rows\n",
      "\n"
     ]
    },
    {
     "name": "stderr",
     "output_type": "stream",
     "text": [
      "                                                                                \r"
     ]
    }
   ],
   "source": [
    "test_results.show()"
   ]
  },
  {
   "cell_type": "code",
   "execution_count": 109,
   "id": "cd892192-c49b-43b4-8c5d-5b1fc43c268a",
   "metadata": {},
   "outputs": [],
   "source": [
    "from pyspark.ml.evaluation import MulticlassClassificationEvaluator"
   ]
  },
  {
   "cell_type": "code",
   "execution_count": 110,
   "id": "d88d0fd7-5795-4f02-bb31-bf590f0d2eb8",
   "metadata": {},
   "outputs": [
    {
     "name": "stderr",
     "output_type": "stream",
     "text": [
      "24/05/07 23:54:37 WARN DAGScheduler: Broadcasting large task binary with size 4.1 MiB\n",
      "[Stage 119:>                                                        (0 + 1) / 1]\r"
     ]
    },
    {
     "name": "stdout",
     "output_type": "stream",
     "text": [
      "We have an accuracy of predicting fake news of: 0.9583390605161378\n"
     ]
    },
    {
     "name": "stderr",
     "output_type": "stream",
     "text": [
      "                                                                                \r"
     ]
    }
   ],
   "source": [
    "acc_eval = MulticlassClassificationEvaluator(labelCol=\"class\")\n",
    "acc = acc_eval.evaluate(test_results)\n",
    "print(\"We have an accuracy of predicting fake news of: {}\".format(acc))"
   ]
  },
  {
   "cell_type": "code",
   "execution_count": null,
   "id": "2d7d1b3f-b160-4400-afee-c0287aab6847",
   "metadata": {},
   "outputs": [],
   "source": []
  }
 ],
 "metadata": {
  "kernelspec": {
   "display_name": "Python 3 (ipykernel)",
   "language": "python",
   "name": "python3"
  },
  "language_info": {
   "codemirror_mode": {
    "name": "ipython",
    "version": 3
   },
   "file_extension": ".py",
   "mimetype": "text/x-python",
   "name": "python",
   "nbconvert_exporter": "python",
   "pygments_lexer": "ipython3",
   "version": "3.10.12"
  }
 },
 "nbformat": 4,
 "nbformat_minor": 5
}
