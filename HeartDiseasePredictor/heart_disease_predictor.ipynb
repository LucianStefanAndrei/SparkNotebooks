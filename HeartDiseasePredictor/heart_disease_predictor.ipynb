{
 "cells": [
  {
   "cell_type": "markdown",
   "id": "1fdbef2c-599a-4269-b2d0-2d9e31a69f9b",
   "metadata": {},
   "source": [
    "# In this notebook, we will take some health indicators and train a binary classifier that predict wether a patient will have or not a heart disease\n",
    "## Keep in mind that this notebook will run only with PySpark installed correctly on a machine and with the required dependencies installed. \n",
    "## The data has been imported from kaggle and preprocessed in the other notebook. You can find the repository here: https://www.kaggle.com/datasets/yasserh/heart-disease-dataset"
   ]
  },
  {
   "cell_type": "code",
   "execution_count": 48,
   "id": "7df8e69c-64d0-495f-87d5-f4e04251713c",
   "metadata": {},
   "outputs": [
    {
     "name": "stderr",
     "output_type": "stream",
     "text": [
      "24/05/07 23:52:17 WARN SparkSession: Using an existing Spark session; only runtime SQL configurations will take effect.\n"
     ]
    }
   ],
   "source": [
    "from pyspark.sql import SparkSession\n",
    "spark = SparkSession.builder.appName('heart_disease').getOrCreate()"
   ]
  },
  {
   "cell_type": "code",
   "execution_count": 49,
   "id": "9a29f46e-df7a-4b7b-933a-6867fd8ab7a1",
   "metadata": {},
   "outputs": [
    {
     "name": "stdout",
     "output_type": "stream",
     "text": [
      "Dataset URL: https://www.kaggle.com/datasets/yasserh/heart-disease-dataset\n",
      "License(s): CC0-1.0\n",
      "heart-disease-dataset.zip: Skipping, found more recently modified local copy (use --force to force download)\n"
     ]
    }
   ],
   "source": [
    "!kaggle datasets download -d yasserh/heart-disease-dataset"
   ]
  },
  {
   "cell_type": "code",
   "execution_count": 50,
   "id": "02ecd967-13fe-44f1-8c9b-43bb5cda2ea2",
   "metadata": {},
   "outputs": [],
   "source": [
    "import zipfile\n",
    "zipf = zipfile.ZipFile(\"heart-disease-dataset.zip\")\n",
    "zipf.extractall(\"data/heart_disease.csv\")"
   ]
  },
  {
   "cell_type": "code",
   "execution_count": 51,
   "id": "f6aca64b-cad6-46ae-85d3-df79214e696e",
   "metadata": {},
   "outputs": [],
   "source": [
    "data = spark.read.csv(\"data/heart_disease.csv\",inferSchema=True,header=True)"
   ]
  },
  {
   "cell_type": "code",
   "execution_count": 52,
   "id": "15d48f48-15e5-4b35-9c22-d21d7795e208",
   "metadata": {},
   "outputs": [
    {
     "name": "stdout",
     "output_type": "stream",
     "text": [
      "root\n",
      " |-- age: integer (nullable = true)\n",
      " |-- sex: integer (nullable = true)\n",
      " |-- cp: integer (nullable = true)\n",
      " |-- trestbps: integer (nullable = true)\n",
      " |-- chol: integer (nullable = true)\n",
      " |-- fbs: integer (nullable = true)\n",
      " |-- restecg: integer (nullable = true)\n",
      " |-- thalach: integer (nullable = true)\n",
      " |-- exang: integer (nullable = true)\n",
      " |-- oldpeak: double (nullable = true)\n",
      " |-- slope: integer (nullable = true)\n",
      " |-- ca: integer (nullable = true)\n",
      " |-- thal: integer (nullable = true)\n",
      " |-- target: integer (nullable = true)\n",
      "\n"
     ]
    }
   ],
   "source": [
    "data.printSchema()"
   ]
  },
  {
   "cell_type": "code",
   "execution_count": 53,
   "id": "e03354b4-c237-45aa-ba7e-6471df7e2b7a",
   "metadata": {},
   "outputs": [
    {
     "name": "stdout",
     "output_type": "stream",
     "text": [
      "+---+---+---+--------+----+---+-------+-------+-----+-------+-----+---+----+------+\n",
      "|age|sex| cp|trestbps|chol|fbs|restecg|thalach|exang|oldpeak|slope| ca|thal|target|\n",
      "+---+---+---+--------+----+---+-------+-------+-----+-------+-----+---+----+------+\n",
      "| 63|  1|  3|     145| 233|  1|      0|    150|    0|    2.3|    0|  0|   1|     1|\n",
      "| 37|  1|  2|     130| 250|  0|      1|    187|    0|    3.5|    0|  0|   2|     1|\n",
      "| 41|  0|  1|     130| 204|  0|      0|    172|    0|    1.4|    2|  0|   2|     1|\n",
      "| 56|  1|  1|     120| 236|  0|      1|    178|    0|    0.8|    2|  0|   2|     1|\n",
      "| 57|  0|  0|     120| 354|  0|      1|    163|    1|    0.6|    2|  0|   2|     1|\n",
      "| 57|  1|  0|     140| 192|  0|      1|    148|    0|    0.4|    1|  0|   1|     1|\n",
      "| 56|  0|  1|     140| 294|  0|      0|    153|    0|    1.3|    1|  0|   2|     1|\n",
      "| 44|  1|  1|     120| 263|  0|      1|    173|    0|    0.0|    2|  0|   3|     1|\n",
      "| 52|  1|  2|     172| 199|  1|      1|    162|    0|    0.5|    2|  0|   3|     1|\n",
      "| 57|  1|  2|     150| 168|  0|      1|    174|    0|    1.6|    2|  0|   2|     1|\n",
      "| 54|  1|  0|     140| 239|  0|      1|    160|    0|    1.2|    2|  0|   2|     1|\n",
      "| 48|  0|  2|     130| 275|  0|      1|    139|    0|    0.2|    2|  0|   2|     1|\n",
      "| 49|  1|  1|     130| 266|  0|      1|    171|    0|    0.6|    2|  0|   2|     1|\n",
      "| 64|  1|  3|     110| 211|  0|      0|    144|    1|    1.8|    1|  0|   2|     1|\n",
      "| 58|  0|  3|     150| 283|  1|      0|    162|    0|    1.0|    2|  0|   2|     1|\n",
      "| 50|  0|  2|     120| 219|  0|      1|    158|    0|    1.6|    1|  0|   2|     1|\n",
      "| 58|  0|  2|     120| 340|  0|      1|    172|    0|    0.0|    2|  0|   2|     1|\n",
      "| 66|  0|  3|     150| 226|  0|      1|    114|    0|    2.6|    0|  0|   2|     1|\n",
      "| 43|  1|  0|     150| 247|  0|      1|    171|    0|    1.5|    2|  0|   2|     1|\n",
      "| 69|  0|  3|     140| 239|  0|      1|    151|    0|    1.8|    2|  2|   2|     1|\n",
      "+---+---+---+--------+----+---+-------+-------+-----+-------+-----+---+----+------+\n",
      "only showing top 20 rows\n",
      "\n"
     ]
    }
   ],
   "source": [
    "data.show()"
   ]
  },
  {
   "cell_type": "code",
   "execution_count": 54,
   "id": "ba6ac6ba-5abc-44eb-be2d-ee7bdbe76236",
   "metadata": {},
   "outputs": [
    {
     "data": {
      "text/plain": [
       "['age',\n",
       " 'sex',\n",
       " 'cp',\n",
       " 'trestbps',\n",
       " 'chol',\n",
       " 'fbs',\n",
       " 'restecg',\n",
       " 'thalach',\n",
       " 'exang',\n",
       " 'oldpeak',\n",
       " 'slope',\n",
       " 'ca',\n",
       " 'thal']"
      ]
     },
     "execution_count": 54,
     "metadata": {},
     "output_type": "execute_result"
    }
   ],
   "source": [
    "# Prepare the necessary columns for the vector assembler\n",
    "# Given that all columns are relevant and numeric, we will drop our target column\n",
    "# because we will use it for our predictions\n",
    "\n",
    "inputCols = data.columns\n",
    "inputCols.pop()\n",
    "inputCols"
   ]
  },
  {
   "cell_type": "code",
   "execution_count": 55,
   "id": "73198335-8d50-4fb8-ad76-1fea5e995a51",
   "metadata": {},
   "outputs": [],
   "source": [
    "from pyspark.ml.feature import VectorAssembler"
   ]
  },
  {
   "cell_type": "code",
   "execution_count": 56,
   "id": "2f32fba9-d5f0-4f9c-9a25-9af281e2c4d2",
   "metadata": {},
   "outputs": [],
   "source": [
    "assembler = VectorAssembler(inputCols=inputCols, outputCol=\"features\")"
   ]
  },
  {
   "cell_type": "code",
   "execution_count": 57,
   "id": "0306ec34-207c-4809-95c7-bf0899fa3c4a",
   "metadata": {},
   "outputs": [],
   "source": [
    "# create a new df with the transformed data and the targets\n",
    "final_data = assembler.transform(data).select(\"features\",\"target\")"
   ]
  },
  {
   "cell_type": "code",
   "execution_count": 58,
   "id": "04041539-95f9-4acd-a1ae-8c097bc474e2",
   "metadata": {},
   "outputs": [
    {
     "name": "stdout",
     "output_type": "stream",
     "text": [
      "+--------------------+------+\n",
      "|            features|target|\n",
      "+--------------------+------+\n",
      "|[63.0,1.0,3.0,145...|     1|\n",
      "|[37.0,1.0,2.0,130...|     1|\n",
      "|[41.0,0.0,1.0,130...|     1|\n",
      "|[56.0,1.0,1.0,120...|     1|\n",
      "|[57.0,0.0,0.0,120...|     1|\n",
      "|[57.0,1.0,0.0,140...|     1|\n",
      "|[56.0,0.0,1.0,140...|     1|\n",
      "|[44.0,1.0,1.0,120...|     1|\n",
      "|[52.0,1.0,2.0,172...|     1|\n",
      "|[57.0,1.0,2.0,150...|     1|\n",
      "|[54.0,1.0,0.0,140...|     1|\n",
      "|[48.0,0.0,2.0,130...|     1|\n",
      "|[49.0,1.0,1.0,130...|     1|\n",
      "|[64.0,1.0,3.0,110...|     1|\n",
      "|[58.0,0.0,3.0,150...|     1|\n",
      "|[50.0,0.0,2.0,120...|     1|\n",
      "|[58.0,0.0,2.0,120...|     1|\n",
      "|[66.0,0.0,3.0,150...|     1|\n",
      "|[43.0,1.0,0.0,150...|     1|\n",
      "|[69.0,0.0,3.0,140...|     1|\n",
      "+--------------------+------+\n",
      "only showing top 20 rows\n",
      "\n"
     ]
    }
   ],
   "source": [
    "final_data.show()"
   ]
  },
  {
   "cell_type": "code",
   "execution_count": 79,
   "id": "6eae208b-2206-4164-b2dc-2c1ee0a83688",
   "metadata": {},
   "outputs": [],
   "source": [
    "train_data,test_data = final_data.randomSplit([0.8,0.2],seed=42)"
   ]
  },
  {
   "cell_type": "code",
   "execution_count": 80,
   "id": "0afeb66a-c87d-4452-bd3e-71fccef72aaa",
   "metadata": {},
   "outputs": [
    {
     "name": "stdout",
     "output_type": "stream",
     "text": [
      "+-------+------------------+\n",
      "|summary|            target|\n",
      "+-------+------------------+\n",
      "|  count|               256|\n",
      "|   mean|        0.52734375|\n",
      "| stddev|0.5002297266374368|\n",
      "|    min|                 0|\n",
      "|    max|                 1|\n",
      "+-------+------------------+\n",
      "\n"
     ]
    }
   ],
   "source": [
    "train_data.describe().show()"
   ]
  },
  {
   "cell_type": "code",
   "execution_count": 81,
   "id": "c504d670-63a5-4f13-b9ca-437fa59f7204",
   "metadata": {},
   "outputs": [
    {
     "name": "stdout",
     "output_type": "stream",
     "text": [
      "+-------+-------------------+\n",
      "|summary|             target|\n",
      "+-------+-------------------+\n",
      "|  count|                 47|\n",
      "|   mean| 0.6382978723404256|\n",
      "| stddev|0.48568785444140605|\n",
      "|    min|                  0|\n",
      "|    max|                  1|\n",
      "+-------+-------------------+\n",
      "\n"
     ]
    }
   ],
   "source": [
    "test_data.describe().show()"
   ]
  },
  {
   "cell_type": "code",
   "execution_count": 82,
   "id": "043425b7-cc74-48fd-af04-798ed2a0548a",
   "metadata": {},
   "outputs": [],
   "source": [
    "from pyspark.ml.classification import LogisticRegression"
   ]
  },
  {
   "cell_type": "code",
   "execution_count": 83,
   "id": "71c2593e-fca0-4846-87b1-9e1d8075bcd9",
   "metadata": {},
   "outputs": [],
   "source": [
    "hd_model = LogisticRegression(labelCol='target').fit(train_data)"
   ]
  },
  {
   "cell_type": "code",
   "execution_count": 84,
   "id": "9e89d146-0380-48eb-949e-50cebc5aa530",
   "metadata": {},
   "outputs": [
    {
     "name": "stdout",
     "output_type": "stream",
     "text": [
      "+--------------------+------+--------------------+--------------------+----------+\n",
      "|            features|target|       rawPrediction|         probability|prediction|\n",
      "+--------------------+------+--------------------+--------------------+----------+\n",
      "|(13,[0,1,3,4,7,10...|   0.0|[-0.6665158753989...|[0.33927743303048...|       1.0|\n",
      "|(13,[0,1,3,4,7,10...|   1.0|[-1.5558022856812...|[0.17424981711244...|       1.0|\n",
      "|(13,[0,1,3,4,7,10...|   1.0|[-0.9900292933484...|[0.27090629170471...|       1.0|\n",
      "|(13,[0,2,3,4,7,10...|   1.0|[-5.1873617323059...|[0.00555568855598...|       1.0|\n",
      "|(13,[0,2,3,4,7,10...|   1.0|[-4.7321746059193...|[0.00873040650821...|       1.0|\n",
      "|(13,[0,3,4,6,7,10...|   1.0|[-3.0903241177085...|[0.04350814474066...|       1.0|\n",
      "|(13,[0,3,4,7,8,10...|   1.0|[-0.6314027100272...|[0.34719254563749...|       1.0|\n",
      "|(13,[0,3,4,7,9,10...|   1.0|[-1.4681200630579...|[0.18722852330237...|       1.0|\n",
      "|(13,[0,3,4,7,9,10...|   1.0|[-1.4157300250329...|[0.19533185382643...|       1.0|\n",
      "|(13,[0,3,4,7,9,10...|   1.0|[-1.4273590461979...|[0.19351050897372...|       1.0|\n",
      "|(13,[0,3,4,7,9,11...|   0.0|[2.34952416095769...|[0.91289639790697...|       0.0|\n",
      "|(13,[0,3,4,7,9,11...|   0.0|[5.57255594734747...|[0.99621363754894...|       0.0|\n",
      "|(13,[0,3,4,7,10,1...|   1.0|[-1.7090149495862...|[0.15329152498288...|       1.0|\n",
      "|(13,[0,3,4,7,10,1...|   1.0|[-3.0861785824092...|[0.04368098880666...|       1.0|\n",
      "|(13,[0,3,4,7,10,1...|   1.0|[-2.5994158685579...|[0.06917602351234...|       1.0|\n",
      "|[29.0,1.0,1.0,130...|   1.0|[-2.5194455576839...|[0.07450616771707...|       1.0|\n",
      "|[34.0,0.0,1.0,118...|   1.0|[-4.5330228541822...|[0.01063384286784...|       1.0|\n",
      "|[34.0,1.0,3.0,118...|   1.0|[-3.8285437255969...|[0.02127862972888...|       1.0|\n",
      "|[35.0,1.0,0.0,120...|   0.0|[2.37403478905999...|[0.91482577627339...|       0.0|\n",
      "|[35.0,1.0,0.0,126...|   0.0|[1.29225005622856...|[0.78452779104094...|       0.0|\n",
      "+--------------------+------+--------------------+--------------------+----------+\n",
      "only showing top 20 rows\n",
      "\n"
     ]
    }
   ],
   "source": [
    "hd_model.summary.predictions.show()"
   ]
  },
  {
   "cell_type": "code",
   "execution_count": 85,
   "id": "ff3177bb-13af-419a-bd52-4cc50a33baf1",
   "metadata": {},
   "outputs": [],
   "source": [
    "from pyspark.ml.evaluation import BinaryClassificationEvaluator"
   ]
  },
  {
   "cell_type": "code",
   "execution_count": 86,
   "id": "dd09e30a-0a2e-47cb-804c-f45b1da331c0",
   "metadata": {},
   "outputs": [
    {
     "name": "stdout",
     "output_type": "stream",
     "text": [
      "+--------------------+------+--------------------+--------------------+----------+\n",
      "|            features|target|       rawPrediction|         probability|prediction|\n",
      "+--------------------+------+--------------------+--------------------+----------+\n",
      "|(13,[0,1,3,4,7,10...|     1|[-1.6021468818335...|[0.16768177236435...|       1.0|\n",
      "|(13,[0,2,3,4,7,10...|     1|[-4.3402549471055...|[0.01286552596458...|       1.0|\n",
      "|(13,[0,3,4,6,7,10...|     1|[-3.5228396193126...|[0.02866931403198...|       1.0|\n",
      "|(13,[0,3,4,7,9,10...|     1|[-0.5148753833399...|[0.37405131913760...|       1.0|\n",
      "|(13,[0,3,4,7,10,1...|     0|[-2.5441013689582...|[0.07282376145972...|       1.0|\n",
      "|[35.0,0.0,0.0,138...|     1|[-2.9248284012044...|[0.05093976554131...|       1.0|\n",
      "|[38.0,1.0,2.0,138...|     1|[0.05986394693776...|[0.51496151887815...|       0.0|\n",
      "|[39.0,1.0,2.0,140...|     1|[-2.1607643397096...|[0.10332961191995...|       1.0|\n",
      "|[41.0,1.0,1.0,135...|     1|[-1.6538765505959...|[0.16058571074126...|       1.0|\n",
      "|[41.0,1.0,2.0,112...|     1|[-3.4532496078749...|[0.03067209673749...|       1.0|\n",
      "|[41.0,1.0,2.0,130...|     1|[-0.8805705936815...|[0.29305955183213...|       1.0|\n",
      "|[42.0,1.0,0.0,136...|     0|[1.73228204133801...|[0.84970408566090...|       0.0|\n",
      "|[42.0,1.0,1.0,120...|     1|[-2.0012569594124...|[0.11907101250208...|       1.0|\n",
      "|[43.0,0.0,0.0,132...|     0|[2.20120623792931...|[0.90035777915863...|       0.0|\n",
      "|[43.0,1.0,2.0,130...|     1|[-0.6876081434794...|[0.33456536469024...|       1.0|\n",
      "|[44.0,1.0,1.0,120...|     1|[-1.5219373502998...|[0.17917641186878...|       1.0|\n",
      "|[45.0,1.0,0.0,104...|     1|[1.98460077210564...|[0.87917075322965...|       0.0|\n",
      "|[49.0,1.0,2.0,118...|     0|[0.45448715980235...|[0.61170556522113...|       0.0|\n",
      "|[51.0,1.0,0.0,140...|     1|[0.01913627904975...|[0.50478392377504...|       0.0|\n",
      "|[51.0,1.0,2.0,100...|     1|[-0.7914154733989...|[0.31186482066566...|       1.0|\n",
      "+--------------------+------+--------------------+--------------------+----------+\n",
      "only showing top 20 rows\n",
      "\n"
     ]
    }
   ],
   "source": [
    "predictions = hd_model.evaluate(test_data)\n",
    "predictions.predictions.show()"
   ]
  },
  {
   "cell_type": "code",
   "execution_count": 87,
   "id": "7ffa5a4d-bd72-49b1-92f4-ce6aa26ee188",
   "metadata": {},
   "outputs": [],
   "source": [
    "# Evaluate our results using a Binary Evaluator provided by PySpark\n",
    "evaluator = BinaryClassificationEvaluator(labelCol=\"target\",rawPredictionCol=\"prediction\")\n",
    "accuracy = evaluator.evaluate(predictions.predictions)"
   ]
  },
  {
   "cell_type": "code",
   "execution_count": 88,
   "id": "659c5214-9b08-485a-ac4b-cc76c8b18ab7",
   "metadata": {},
   "outputs": [
    {
     "name": "stdout",
     "output_type": "stream",
     "text": [
      "Out model has an accuracy of 0.8450980392156862\n"
     ]
    }
   ],
   "source": [
    "print(f\"Out model has an accuracy of {accuracy}\")"
   ]
  },
  {
   "cell_type": "code",
   "execution_count": null,
   "id": "a7096c6f-2122-48c6-a858-93aa7df95c3b",
   "metadata": {},
   "outputs": [],
   "source": []
  }
 ],
 "metadata": {
  "kernelspec": {
   "display_name": "Python 3 (ipykernel)",
   "language": "python",
   "name": "python3"
  },
  "language_info": {
   "codemirror_mode": {
    "name": "ipython",
    "version": 3
   },
   "file_extension": ".py",
   "mimetype": "text/x-python",
   "name": "python",
   "nbconvert_exporter": "python",
   "pygments_lexer": "ipython3",
   "version": "3.10.12"
  }
 },
 "nbformat": 4,
 "nbformat_minor": 5
}
